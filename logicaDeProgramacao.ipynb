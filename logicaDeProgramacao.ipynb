{
  "nbformat": 4,
  "nbformat_minor": 0,
  "metadata": {
    "colab": {
      "name": "logicaDeProgramacao.ipynb",
      "provenance": [],
      "authorship_tag": "ABX9TyOHfbBj1xGuQ8BwGEEMsUdE",
      "include_colab_link": true
    },
    "kernelspec": {
      "name": "python3",
      "display_name": "Python 3"
    },
    "language_info": {
      "name": "python"
    }
  },
  "cells": [
    {
      "cell_type": "markdown",
      "metadata": {
        "id": "view-in-github",
        "colab_type": "text"
      },
      "source": [
        "<a href=\"https://colab.research.google.com/github/kirestein/Python_para_Data_Science/blob/main/logicaDeProgramacao.ipynb\" target=\"_parent\"><img src=\"https://colab.research.google.com/assets/colab-badge.svg\" alt=\"Open In Colab\"/></a>"
      ]
    },
    {
      "cell_type": "markdown",
      "metadata": {
        "id": "_o4_PggIYiLd"
      },
      "source": [
        "## Lógica de programação com Python"
      ]
    },
    {
      "cell_type": "code",
      "metadata": {
        "colab": {
          "base_uri": "https://localhost:8080/"
        },
        "id": "zOkUy9HBYmfh",
        "outputId": "681ed8c2-7197-4eb9-a6fa-d04be50c5a0a"
      },
      "source": [
        "1+1"
      ],
      "execution_count": null,
      "outputs": [
        {
          "output_type": "execute_result",
          "data": {
            "text/plain": [
              "2"
            ]
          },
          "metadata": {
            "tags": []
          },
          "execution_count": 1
        }
      ]
    },
    {
      "cell_type": "code",
      "metadata": {
        "colab": {
          "base_uri": "https://localhost:8080/",
          "height": 35
        },
        "id": "Tq-mBQyEY5lu",
        "outputId": "25e08975-4f48-46a7-83f0-c95b624ed67b"
      },
      "source": [
        "\"Erik\""
      ],
      "execution_count": null,
      "outputs": [
        {
          "output_type": "execute_result",
          "data": {
            "application/vnd.google.colaboratory.intrinsic+json": {
              "type": "string"
            },
            "text/plain": [
              "'Erik'"
            ]
          },
          "metadata": {
            "tags": []
          },
          "execution_count": 2
        }
      ]
    },
    {
      "cell_type": "code",
      "metadata": {
        "colab": {
          "base_uri": "https://localhost:8080/",
          "height": 35
        },
        "id": "PqVIPrZYZIav",
        "outputId": "6d68a5ff-9206-4040-9971-b4b7ef8294b5"
      },
      "source": [
        "'Erik'"
      ],
      "execution_count": null,
      "outputs": [
        {
          "output_type": "execute_result",
          "data": {
            "application/vnd.google.colaboratory.intrinsic+json": {
              "type": "string"
            },
            "text/plain": [
              "'Erik'"
            ]
          },
          "metadata": {
            "tags": []
          },
          "execution_count": 3
        }
      ]
    },
    {
      "cell_type": "code",
      "metadata": {
        "id": "c3zDRP1tZZHV"
      },
      "source": [
        "nome = 'Erik'"
      ],
      "execution_count": null,
      "outputs": []
    },
    {
      "cell_type": "code",
      "metadata": {
        "id": "-jyJAoNzZeTs",
        "colab": {
          "base_uri": "https://localhost:8080/",
          "height": 35
        },
        "outputId": "794fd9b7-510e-457a-8fd3-f7670434b6a4"
      },
      "source": [
        "nome"
      ],
      "execution_count": null,
      "outputs": [
        {
          "output_type": "execute_result",
          "data": {
            "application/vnd.google.colaboratory.intrinsic+json": {
              "type": "string"
            },
            "text/plain": [
              "'Erik'"
            ]
          },
          "metadata": {
            "tags": []
          },
          "execution_count": 5
        }
      ]
    },
    {
      "cell_type": "code",
      "metadata": {
        "id": "uUVSQWJ8QqRI"
      },
      "source": [
        "idade = 36"
      ],
      "execution_count": null,
      "outputs": []
    },
    {
      "cell_type": "code",
      "metadata": {
        "colab": {
          "base_uri": "https://localhost:8080/"
        },
        "id": "c6y6BmJrQx8m",
        "outputId": "b3e89476-df85-4265-fd4a-d1f82d74bb8c"
      },
      "source": [
        "idade"
      ],
      "execution_count": null,
      "outputs": [
        {
          "output_type": "execute_result",
          "data": {
            "text/plain": [
              "36"
            ]
          },
          "metadata": {
            "tags": []
          },
          "execution_count": 3
        }
      ]
    },
    {
      "cell_type": "code",
      "metadata": {
        "id": "awNduNO1Q32Y"
      },
      "source": [
        "nome = 'Erik'"
      ],
      "execution_count": null,
      "outputs": []
    },
    {
      "cell_type": "code",
      "metadata": {
        "colab": {
          "base_uri": "https://localhost:8080/",
          "height": 35
        },
        "id": "BiQ0rWLmRVRd",
        "outputId": "3b575580-0bac-4f52-9560-25750d4af3b3"
      },
      "source": [
        "nome"
      ],
      "execution_count": null,
      "outputs": [
        {
          "output_type": "execute_result",
          "data": {
            "application/vnd.google.colaboratory.intrinsic+json": {
              "type": "string"
            },
            "text/plain": [
              "'Erik'"
            ]
          },
          "metadata": {
            "tags": []
          },
          "execution_count": 10
        }
      ]
    },
    {
      "cell_type": "code",
      "metadata": {
        "colab": {
          "base_uri": "https://localhost:8080/"
        },
        "id": "ixDQIKS5RXnt",
        "outputId": "3ce4db6e-d13e-4514-a034-1557c69c4134"
      },
      "source": [
        "print(f'O nome é {nome} e a sua idade é {idade} anos')"
      ],
      "execution_count": null,
      "outputs": [
        {
          "output_type": "stream",
          "text": [
            "O nome é Erik e a sua idade é 36 anos\n"
          ],
          "name": "stdout"
        }
      ]
    },
    {
      "cell_type": "code",
      "metadata": {
        "id": "fyzT269mRmcU"
      },
      "source": [
        "idade = 37"
      ],
      "execution_count": null,
      "outputs": []
    },
    {
      "cell_type": "code",
      "metadata": {
        "colab": {
          "base_uri": "https://localhost:8080/"
        },
        "id": "oLbdRY8hRq_W",
        "outputId": "a8293235-d392-410c-e25c-29df1f9ca5b6"
      },
      "source": [
        "print(f'O nome é {nome} e a sua idade é {idade} anos')"
      ],
      "execution_count": null,
      "outputs": [
        {
          "output_type": "stream",
          "text": [
            "O nome é Erik e a sua idade é 37 anos\n"
          ],
          "name": "stdout"
        }
      ]
    },
    {
      "cell_type": "markdown",
      "metadata": {
        "id": "dyzJVjnlRwet"
      },
      "source": [
        "# Criando minha primeira função"
      ]
    },
    {
      "cell_type": "code",
      "metadata": {
        "id": "6qOyvSH6R-Qi"
      },
      "source": [
        "def saudacao():\n",
        "  nome = input('Qual o seu nome? ')\n",
        "  print(f'Olá {nome}')\n",
        "  tudo_bem = input('tudo bem? ')\n",
        "  if tudo_bem == 'sim':\n",
        "      print('Que bom')\n",
        "  elif tudo_bem == 'não':\n",
        "      print(f'{nome} posso te ajudar de alguma forma?')\n",
        "  "
      ],
      "execution_count": null,
      "outputs": []
    },
    {
      "cell_type": "code",
      "metadata": {
        "colab": {
          "base_uri": "https://localhost:8080/"
        },
        "id": "aFxSGzejSmBV",
        "outputId": "d46bc28f-93ea-47c9-ded6-757d4a16d809"
      },
      "source": [
        "saudacao()"
      ],
      "execution_count": null,
      "outputs": [
        {
          "output_type": "stream",
          "text": [
            "Qual o seu nome? Erik\n",
            "Olá Erik\n",
            "tudo bem? não\n",
            "Erik posso te ajudar de alguma forma?\n"
          ],
          "name": "stdout"
        }
      ]
    },
    {
      "cell_type": "code",
      "metadata": {
        "id": "boAjQVtcSuIA"
      },
      "source": [
        ""
      ],
      "execution_count": null,
      "outputs": []
    },
    {
      "cell_type": "markdown",
      "metadata": {
        "id": "zNZNNShUhKIu"
      },
      "source": [
        "# Parâmetro"
      ]
    },
    {
      "cell_type": "code",
      "metadata": {
        "id": "X65y66oQhM3a"
      },
      "source": [
        "nome = 'João'\n",
        "def saudacao_com_parametro(nome_da_pessoa):\n",
        "  print(f'Olá {nome_da_pessoa}')"
      ],
      "execution_count": null,
      "outputs": []
    },
    {
      "cell_type": "code",
      "metadata": {
        "colab": {
          "base_uri": "https://localhost:8080/"
        },
        "id": "_hFt31Ixhjrc",
        "outputId": "1369ec1e-5add-4138-a834-37ed498dc2a9"
      },
      "source": [
        "saudacao_com_parametro(nome)"
      ],
      "execution_count": null,
      "outputs": [
        {
          "output_type": "stream",
          "text": [
            "Olá João\n"
          ],
          "name": "stdout"
        }
      ]
    },
    {
      "cell_type": "markdown",
      "metadata": {
        "id": "7TfhCD8wi80d"
      },
      "source": [
        "# Condicional"
      ]
    },
    {
      "cell_type": "code",
      "metadata": {
        "colab": {
          "base_uri": "https://localhost:8080/"
        },
        "id": "pkiSK07rkBoz",
        "outputId": "1993d939-bdda-4ab9-9942-24f7bec64232"
      },
      "source": [
        "idade = 20\n",
        "\n",
        "def verifica_se_pode_dirigir(idade):\n",
        "  if idade >= 18:\n",
        "    print('Tem permissão para dirigir.')\n",
        "  else:\n",
        "    print('Você não tem 18 anos ou mais, portanto não tem permissão para dirigir.')\n",
        "\n",
        "verifica_se_pode_dirigir(idade)"
      ],
      "execution_count": null,
      "outputs": [
        {
          "output_type": "stream",
          "text": [
            "Tem permissão para dirigir.\n"
          ],
          "name": "stdout"
        }
      ]
    },
    {
      "cell_type": "code",
      "metadata": {
        "colab": {
          "base_uri": "https://localhost:8080/"
        },
        "id": "zfLsv50QkQyo",
        "outputId": "229f839e-5f8b-4b6e-cde9-010cee61ab19"
      },
      "source": [
        "def verfica_se_pode_dirigir_sem_parametros():\n",
        "  idade = input('Digite a sua idade: ')\n",
        "  idade = int(idade) #convertendo uma string para inteiro\n",
        "  if idade >= 18:\n",
        "    print('Você tem permissão para dirigir')\n",
        "  else:\n",
        "    print('Você não tem permissão para dirigir')\n",
        "\n",
        "verfica_se_pode_dirigir_sem_parametros()"
      ],
      "execution_count": null,
      "outputs": [
        {
          "output_type": "stream",
          "text": [
            "Digite a sua idade: 36\n",
            "Você tem permissão para dirigir\n"
          ],
          "name": "stdout"
        }
      ]
    },
    {
      "cell_type": "code",
      "metadata": {
        "colab": {
          "base_uri": "https://localhost:8080/"
        },
        "id": "tFvWv45vk5h8",
        "outputId": "cca21e1f-748f-4363-88b9-282d42761935"
      },
      "source": [
        "def velocidade(espaco, tempo):\n",
        "  v = espaco / tempo\n",
        "  print(f'Velocidade: {v}m/s')\n",
        "\n",
        "velocidade(100, 20)"
      ],
      "execution_count": null,
      "outputs": [
        {
          "output_type": "stream",
          "text": [
            "Velocidade: 5.0m/s\n"
          ],
          "name": "stdout"
        }
      ]
    },
    {
      "cell_type": "code",
      "metadata": {
        "id": "gxFSUU8zmYDw"
      },
      "source": [
        ""
      ],
      "execution_count": null,
      "outputs": []
    }
  ]
}