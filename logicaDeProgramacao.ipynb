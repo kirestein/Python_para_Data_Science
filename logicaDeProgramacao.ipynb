{
  "nbformat": 4,
  "nbformat_minor": 0,
  "metadata": {
    "colab": {
      "name": "logicaDeProgramacao.ipynb",
      "provenance": [],
      "authorship_tag": "ABX9TyM+Lf2x60FD4xQX2ospVbPU",
      "include_colab_link": true
    },
    "kernelspec": {
      "name": "python3",
      "display_name": "Python 3"
    },
    "language_info": {
      "name": "python"
    }
  },
  "cells": [
    {
      "cell_type": "markdown",
      "metadata": {
        "id": "view-in-github",
        "colab_type": "text"
      },
      "source": [
        "<a href=\"https://colab.research.google.com/github/kirestein/Python_para_Data_Science/blob/main/logicaDeProgramacao.ipynb\" target=\"_parent\"><img src=\"https://colab.research.google.com/assets/colab-badge.svg\" alt=\"Open In Colab\"/></a>"
      ]
    },
    {
      "cell_type": "markdown",
      "metadata": {
        "id": "_o4_PggIYiLd"
      },
      "source": [
        "## Lógica de programação com Python"
      ]
    },
    {
      "cell_type": "code",
      "metadata": {
        "colab": {
          "base_uri": "https://localhost:8080/"
        },
        "id": "zOkUy9HBYmfh",
        "outputId": "681ed8c2-7197-4eb9-a6fa-d04be50c5a0a"
      },
      "source": [
        "1+1"
      ],
      "execution_count": null,
      "outputs": [
        {
          "output_type": "execute_result",
          "data": {
            "text/plain": [
              "2"
            ]
          },
          "metadata": {
            "tags": []
          },
          "execution_count": 1
        }
      ]
    },
    {
      "cell_type": "code",
      "metadata": {
        "colab": {
          "base_uri": "https://localhost:8080/",
          "height": 35
        },
        "id": "Tq-mBQyEY5lu",
        "outputId": "25e08975-4f48-46a7-83f0-c95b624ed67b"
      },
      "source": [
        "\"Erik\""
      ],
      "execution_count": null,
      "outputs": [
        {
          "output_type": "execute_result",
          "data": {
            "application/vnd.google.colaboratory.intrinsic+json": {
              "type": "string"
            },
            "text/plain": [
              "'Erik'"
            ]
          },
          "metadata": {
            "tags": []
          },
          "execution_count": 2
        }
      ]
    },
    {
      "cell_type": "code",
      "metadata": {
        "colab": {
          "base_uri": "https://localhost:8080/",
          "height": 35
        },
        "id": "PqVIPrZYZIav",
        "outputId": "6d68a5ff-9206-4040-9971-b4b7ef8294b5"
      },
      "source": [
        "'Erik'"
      ],
      "execution_count": null,
      "outputs": [
        {
          "output_type": "execute_result",
          "data": {
            "application/vnd.google.colaboratory.intrinsic+json": {
              "type": "string"
            },
            "text/plain": [
              "'Erik'"
            ]
          },
          "metadata": {
            "tags": []
          },
          "execution_count": 3
        }
      ]
    },
    {
      "cell_type": "code",
      "metadata": {
        "id": "c3zDRP1tZZHV"
      },
      "source": [
        "nome = 'Erik'"
      ],
      "execution_count": null,
      "outputs": []
    },
    {
      "cell_type": "code",
      "metadata": {
        "id": "-jyJAoNzZeTs",
        "colab": {
          "base_uri": "https://localhost:8080/",
          "height": 35
        },
        "outputId": "794fd9b7-510e-457a-8fd3-f7670434b6a4"
      },
      "source": [
        "nome"
      ],
      "execution_count": null,
      "outputs": [
        {
          "output_type": "execute_result",
          "data": {
            "application/vnd.google.colaboratory.intrinsic+json": {
              "type": "string"
            },
            "text/plain": [
              "'Erik'"
            ]
          },
          "metadata": {
            "tags": []
          },
          "execution_count": 5
        }
      ]
    },
    {
      "cell_type": "code",
      "metadata": {
        "id": "uUVSQWJ8QqRI"
      },
      "source": [
        "idade = 36"
      ],
      "execution_count": 2,
      "outputs": []
    },
    {
      "cell_type": "code",
      "metadata": {
        "colab": {
          "base_uri": "https://localhost:8080/"
        },
        "id": "c6y6BmJrQx8m",
        "outputId": "b3e89476-df85-4265-fd4a-d1f82d74bb8c"
      },
      "source": [
        "idade"
      ],
      "execution_count": 3,
      "outputs": [
        {
          "output_type": "execute_result",
          "data": {
            "text/plain": [
              "36"
            ]
          },
          "metadata": {
            "tags": []
          },
          "execution_count": 3
        }
      ]
    },
    {
      "cell_type": "code",
      "metadata": {
        "id": "awNduNO1Q32Y"
      },
      "source": [
        "nome = 'Erik'"
      ],
      "execution_count": 9,
      "outputs": []
    },
    {
      "cell_type": "code",
      "metadata": {
        "colab": {
          "base_uri": "https://localhost:8080/",
          "height": 35
        },
        "id": "BiQ0rWLmRVRd",
        "outputId": "3b575580-0bac-4f52-9560-25750d4af3b3"
      },
      "source": [
        "nome"
      ],
      "execution_count": 10,
      "outputs": [
        {
          "output_type": "execute_result",
          "data": {
            "application/vnd.google.colaboratory.intrinsic+json": {
              "type": "string"
            },
            "text/plain": [
              "'Erik'"
            ]
          },
          "metadata": {
            "tags": []
          },
          "execution_count": 10
        }
      ]
    },
    {
      "cell_type": "code",
      "metadata": {
        "colab": {
          "base_uri": "https://localhost:8080/"
        },
        "id": "ixDQIKS5RXnt",
        "outputId": "3ce4db6e-d13e-4514-a034-1557c69c4134"
      },
      "source": [
        "print(f'O nome é {nome} e a sua idade é {idade} anos')"
      ],
      "execution_count": 11,
      "outputs": [
        {
          "output_type": "stream",
          "text": [
            "O nome é Erik e a sua idade é 36 anos\n"
          ],
          "name": "stdout"
        }
      ]
    },
    {
      "cell_type": "code",
      "metadata": {
        "id": "fyzT269mRmcU"
      },
      "source": [
        "idade = 37"
      ],
      "execution_count": 12,
      "outputs": []
    },
    {
      "cell_type": "code",
      "metadata": {
        "colab": {
          "base_uri": "https://localhost:8080/"
        },
        "id": "oLbdRY8hRq_W",
        "outputId": "a8293235-d392-410c-e25c-29df1f9ca5b6"
      },
      "source": [
        "print(f'O nome é {nome} e a sua idade é {idade} anos')"
      ],
      "execution_count": 13,
      "outputs": [
        {
          "output_type": "stream",
          "text": [
            "O nome é Erik e a sua idade é 37 anos\n"
          ],
          "name": "stdout"
        }
      ]
    },
    {
      "cell_type": "markdown",
      "metadata": {
        "id": "dyzJVjnlRwet"
      },
      "source": [
        "# Criando minha primeira função"
      ]
    },
    {
      "cell_type": "code",
      "metadata": {
        "id": "6qOyvSH6R-Qi"
      },
      "source": [
        "def saudacao():\n",
        "  nome = input('Qual o seu nome? ')\n",
        "  print(f'Olá {nome}')\n",
        "  tudo_bem = input('tudo bem? ')\n",
        "  if tudo_bem == 'sim':\n",
        "      print('Que bom')\n",
        "  elif tudo_bem == 'não':\n",
        "      print(f'{nome} posso te ajudar de alguma forma?')\n",
        "  "
      ],
      "execution_count": 29,
      "outputs": []
    },
    {
      "cell_type": "code",
      "metadata": {
        "colab": {
          "base_uri": "https://localhost:8080/"
        },
        "id": "aFxSGzejSmBV",
        "outputId": "d46bc28f-93ea-47c9-ded6-757d4a16d809"
      },
      "source": [
        "saudacao()"
      ],
      "execution_count": 31,
      "outputs": [
        {
          "output_type": "stream",
          "text": [
            "Qual o seu nome? Erik\n",
            "Olá Erik\n",
            "tudo bem? não\n",
            "Erik posso te ajudar de alguma forma?\n"
          ],
          "name": "stdout"
        }
      ]
    },
    {
      "cell_type": "code",
      "metadata": {
        "id": "boAjQVtcSuIA"
      },
      "source": [
        ""
      ],
      "execution_count": null,
      "outputs": []
    },
    {
      "cell_type": "markdown",
      "metadata": {
        "id": "zNZNNShUhKIu"
      },
      "source": [
        "# Parâmetro"
      ]
    },
    {
      "cell_type": "code",
      "metadata": {
        "id": "X65y66oQhM3a"
      },
      "source": [
        "nome = 'João'\n",
        "def saudacao_com_parametro(nome_da_pessoa):\n",
        "  print(f'Olá {nome_da_pessoa}')"
      ],
      "execution_count": 32,
      "outputs": []
    },
    {
      "cell_type": "code",
      "metadata": {
        "colab": {
          "base_uri": "https://localhost:8080/"
        },
        "id": "_hFt31Ixhjrc",
        "outputId": "1369ec1e-5add-4138-a834-37ed498dc2a9"
      },
      "source": [
        "saudacao_com_parametro(nome)"
      ],
      "execution_count": 33,
      "outputs": [
        {
          "output_type": "stream",
          "text": [
            "Olá João\n"
          ],
          "name": "stdout"
        }
      ]
    },
    {
      "cell_type": "markdown",
      "metadata": {
        "id": "7TfhCD8wi80d"
      },
      "source": [
        "# Condicional"
      ]
    },
    {
      "cell_type": "code",
      "metadata": {
        "colab": {
          "base_uri": "https://localhost:8080/"
        },
        "id": "pkiSK07rkBoz",
        "outputId": "1993d939-bdda-4ab9-9942-24f7bec64232"
      },
      "source": [
        "idade = 20\n",
        "\n",
        "def verifica_se_pode_dirigir(idade):\n",
        "  if idade >= 18:\n",
        "    print('Tem permissão para dirigir.')\n",
        "  else:\n",
        "    print('Você não tem 18 anos ou mais, portanto não tem permissão para dirigir.')\n",
        "\n",
        "verifica_se_pode_dirigir(idade)"
      ],
      "execution_count": 34,
      "outputs": [
        {
          "output_type": "stream",
          "text": [
            "Tem permissão para dirigir.\n"
          ],
          "name": "stdout"
        }
      ]
    },
    {
      "cell_type": "code",
      "metadata": {
        "colab": {
          "base_uri": "https://localhost:8080/"
        },
        "id": "zfLsv50QkQyo",
        "outputId": "229f839e-5f8b-4b6e-cde9-010cee61ab19"
      },
      "source": [
        "def verfica_se_pode_dirigir_sem_parametros():\n",
        "  idade = input('Digite a sua idade: ')\n",
        "  idade = int(idade) #convertendo uma string para inteiro\n",
        "  if idade >= 18:\n",
        "    print('Você tem permissão para dirigir')\n",
        "  else:\n",
        "    print('Você não tem permissão para dirigir')\n",
        "\n",
        "verfica_se_pode_dirigir_sem_parametros()"
      ],
      "execution_count": 40,
      "outputs": [
        {
          "output_type": "stream",
          "text": [
            "Digite a sua idade: 36\n",
            "Você tem permissão para dirigir\n"
          ],
          "name": "stdout"
        }
      ]
    },
    {
      "cell_type": "code",
      "metadata": {
        "colab": {
          "base_uri": "https://localhost:8080/"
        },
        "id": "tFvWv45vk5h8",
        "outputId": "cca21e1f-748f-4363-88b9-282d42761935"
      },
      "source": [
        "def velocidade(espaco, tempo):\n",
        "  v = espaco / tempo\n",
        "  print(f'Velocidade: {v}m/s')\n",
        "\n",
        "velocidade(100, 20)"
      ],
      "execution_count": 41,
      "outputs": [
        {
          "output_type": "stream",
          "text": [
            "Velocidade: 5.0m/s\n"
          ],
          "name": "stdout"
        }
      ]
    },
    {
      "cell_type": "markdown",
      "metadata": {
        "id": "jpz4JjDmnghS"
      },
      "source": [
        "# Lista"
      ]
    },
    {
      "cell_type": "code",
      "metadata": {
        "colab": {
          "base_uri": "https://localhost:8080/"
        },
        "id": "Kpo2iV1snoeh",
        "outputId": "62257832-0ab5-4e23-b212-4f9741921c81"
      },
      "source": [
        "idade = 22\n",
        "idade"
      ],
      "execution_count": 42,
      "outputs": [
        {
          "output_type": "execute_result",
          "data": {
            "text/plain": [
              "22"
            ]
          },
          "metadata": {
            "tags": []
          },
          "execution_count": 42
        }
      ]
    },
    {
      "cell_type": "code",
      "metadata": {
        "colab": {
          "base_uri": "https://localhost:8080/"
        },
        "id": "waeMXRrInwp7",
        "outputId": "6e22ba27-115e-4ba7-9ed3-bc206f87bf18"
      },
      "source": [
        "type(idade)"
      ],
      "execution_count": 43,
      "outputs": [
        {
          "output_type": "execute_result",
          "data": {
            "text/plain": [
              "int"
            ]
          },
          "metadata": {
            "tags": []
          },
          "execution_count": 43
        }
      ]
    },
    {
      "cell_type": "code",
      "metadata": {
        "id": "-P14J_TgnyZG"
      },
      "source": [
        "nome = 'Erik'"
      ],
      "execution_count": 44,
      "outputs": []
    },
    {
      "cell_type": "code",
      "metadata": {
        "colab": {
          "base_uri": "https://localhost:8080/",
          "height": 35
        },
        "id": "s9OQkF3ln2C3",
        "outputId": "ce2cc488-e30a-4f2a-d3af-7dcbd2118ef9"
      },
      "source": [
        "nome"
      ],
      "execution_count": 45,
      "outputs": [
        {
          "output_type": "execute_result",
          "data": {
            "application/vnd.google.colaboratory.intrinsic+json": {
              "type": "string"
            },
            "text/plain": [
              "'Erik'"
            ]
          },
          "metadata": {
            "tags": []
          },
          "execution_count": 45
        }
      ]
    },
    {
      "cell_type": "code",
      "metadata": {
        "colab": {
          "base_uri": "https://localhost:8080/"
        },
        "id": "uc9AQ0HNn3L2",
        "outputId": "9b2054e4-2e31-45c3-ff8f-16c1205fdf29"
      },
      "source": [
        "type(nome)"
      ],
      "execution_count": 46,
      "outputs": [
        {
          "output_type": "execute_result",
          "data": {
            "text/plain": [
              "str"
            ]
          },
          "metadata": {
            "tags": []
          },
          "execution_count": 46
        }
      ]
    },
    {
      "cell_type": "code",
      "metadata": {
        "id": "wzBkTYYon4pw"
      },
      "source": [
        "idade = [10, 18, 22, 30, 36]"
      ],
      "execution_count": 47,
      "outputs": []
    },
    {
      "cell_type": "code",
      "metadata": {
        "colab": {
          "base_uri": "https://localhost:8080/"
        },
        "id": "7NAghH9DoC6P",
        "outputId": "7d3415df-625f-49f9-c8dc-e896d6675de6"
      },
      "source": [
        "type(idade)"
      ],
      "execution_count": 48,
      "outputs": [
        {
          "output_type": "execute_result",
          "data": {
            "text/plain": [
              "list"
            ]
          },
          "metadata": {
            "tags": []
          },
          "execution_count": 48
        }
      ]
    },
    {
      "cell_type": "code",
      "metadata": {
        "colab": {
          "base_uri": "https://localhost:8080/"
        },
        "id": "vP7X37oYoEog",
        "outputId": "5bd3f63b-83f7-4417-87ab-1bc462474fd1"
      },
      "source": [
        "idade[1]"
      ],
      "execution_count": 49,
      "outputs": [
        {
          "output_type": "execute_result",
          "data": {
            "text/plain": [
              "18"
            ]
          },
          "metadata": {
            "tags": []
          },
          "execution_count": 49
        }
      ]
    },
    {
      "cell_type": "code",
      "metadata": {
        "colab": {
          "base_uri": "https://localhost:8080/"
        },
        "id": "1gLm09gooIQP",
        "outputId": "4e2fcb16-1919-4c41-dfea-3902722052c2"
      },
      "source": [
        "idade[0:3]"
      ],
      "execution_count": 50,
      "outputs": [
        {
          "output_type": "execute_result",
          "data": {
            "text/plain": [
              "[10, 18, 22]"
            ]
          },
          "metadata": {
            "tags": []
          },
          "execution_count": 50
        }
      ]
    },
    {
      "cell_type": "code",
      "metadata": {
        "colab": {
          "base_uri": "https://localhost:8080/"
        },
        "id": "rr1cfcn0ocM_",
        "outputId": "0aeb8a49-b20f-4222-dd2a-65282f41f3b3"
      },
      "source": [
        "idade[1:]"
      ],
      "execution_count": 51,
      "outputs": [
        {
          "output_type": "execute_result",
          "data": {
            "text/plain": [
              "[18, 22, 30, 36]"
            ]
          },
          "metadata": {
            "tags": []
          },
          "execution_count": 51
        }
      ]
    },
    {
      "cell_type": "code",
      "metadata": {
        "colab": {
          "base_uri": "https://localhost:8080/"
        },
        "id": "v7fXOuLiomGG",
        "outputId": "71fc4d86-1769-4aaf-def2-0e2890dbe614"
      },
      "source": [
        "idade[-1]"
      ],
      "execution_count": 52,
      "outputs": [
        {
          "output_type": "execute_result",
          "data": {
            "text/plain": [
              "36"
            ]
          },
          "metadata": {
            "tags": []
          },
          "execution_count": 52
        }
      ]
    },
    {
      "cell_type": "code",
      "metadata": {
        "id": "hXNwxjU6oyCu"
      },
      "source": [
        ""
      ],
      "execution_count": null,
      "outputs": []
    },
    {
      "cell_type": "markdown",
      "metadata": {
        "id": "EZ4wdMXDqC3C"
      },
      "source": [
        "# Laços e loops"
      ]
    },
    {
      "cell_type": "code",
      "metadata": {
        "id": "izhAmjSwqUF1"
      },
      "source": [
        "idades = [10, 18, 22, 15, 36]"
      ],
      "execution_count": 57,
      "outputs": []
    },
    {
      "cell_type": "code",
      "metadata": {
        "colab": {
          "base_uri": "https://localhost:8080/"
        },
        "id": "dOMcF32bqLvS",
        "outputId": "d3fd223b-a1ab-4f14-fe31-d6d0ad5295b2"
      },
      "source": [
        "#for fora da função\n",
        "\n",
        "def pode_dirigir(idade):\n",
        "  if idade >= 18:\n",
        "    print(f'Você tem {idade} anos de idade, portanto pode dirigir')\n",
        "  else:\n",
        "    print(f'Você tem {idade} anos de idade, portanto não pode dirigir')\n",
        "\n",
        "for idade in idades:\n",
        "  pode_dirigir(idade)"
      ],
      "execution_count": 58,
      "outputs": [
        {
          "output_type": "stream",
          "text": [
            "Você tem 10 anos de idade, portanto não pode dirigir\n",
            "Você tem 18 anos de idade, portanto pode dirigir\n",
            "Você tem 22 anos de idade, portanto pode dirigir\n",
            "Você tem 15 anos de idade, portanto não pode dirigir\n",
            "Você tem 36 anos de idade, portanto pode dirigir\n"
          ],
          "name": "stdout"
        }
      ]
    },
    {
      "cell_type": "code",
      "metadata": {
        "colab": {
          "base_uri": "https://localhost:8080/"
        },
        "id": "2w9LXKVLrIwF",
        "outputId": "2c8f7ed1-fd72-4e53-8ecb-826115f0b63f"
      },
      "source": [
        "def pode_dirigir(idades):\n",
        "  for idade in idades:\n",
        "    if idade >= 18:\n",
        "      print(f'Você tem {idade} anos de idade, portanto pode dirigir')\n",
        "    else:\n",
        "      print(f'Você tem {idade} anos de idade, portanto não pode dirigir')\n",
        "\n",
        "pode_dirigir(idades)"
      ],
      "execution_count": 60,
      "outputs": [
        {
          "output_type": "stream",
          "text": [
            "Você tem 10 anos de idade, portanto não pode dirigir\n",
            "Você tem 18 anos de idade, portanto pode dirigir\n",
            "Você tem 22 anos de idade, portanto pode dirigir\n",
            "Você tem 15 anos de idade, portanto não pode dirigir\n",
            "Você tem 36 anos de idade, portanto pode dirigir\n"
          ],
          "name": "stdout"
        }
      ]
    },
    {
      "cell_type": "code",
      "metadata": {
        "id": "66-7H_eSr4c-"
      },
      "source": [
        ""
      ],
      "execution_count": null,
      "outputs": []
    },
    {
      "cell_type": "code",
      "metadata": {
        "id": "8hsZxMbAsVFN"
      },
      "source": [
        ""
      ],
      "execution_count": null,
      "outputs": []
    },
    {
      "cell_type": "markdown",
      "metadata": {
        "id": "B7HweiSAsTff"
      },
      "source": [
        "# Boleano (Boolean)"
      ]
    },
    {
      "cell_type": "code",
      "metadata": {
        "id": "xINtkbFUsa1F"
      },
      "source": [
        "permissoes = []\n",
        "idades = [20, 14, 40]\n",
        "\n",
        "def pode_dirigir(idades, permissoes):\n",
        "  for idade in idades:\n",
        "    if idade >= 18:\n",
        "      permissoes.append(True)\n",
        "    else:\n",
        "      permissoes.append(False)\n",
        "      \n",
        "pode_dirigir(idades, permissoes)"
      ],
      "execution_count": 63,
      "outputs": []
    },
    {
      "cell_type": "code",
      "metadata": {
        "colab": {
          "base_uri": "https://localhost:8080/"
        },
        "id": "kO6bmRzPtHMs",
        "outputId": "0e4550b7-4fbd-449f-f8f6-a882d9a88b8a"
      },
      "source": [
        "permissoes"
      ],
      "execution_count": 64,
      "outputs": [
        {
          "output_type": "execute_result",
          "data": {
            "text/plain": [
              "[True, False, True]"
            ]
          },
          "metadata": {
            "tags": []
          },
          "execution_count": 64
        }
      ]
    },
    {
      "cell_type": "code",
      "metadata": {
        "colab": {
          "base_uri": "https://localhost:8080/"
        },
        "id": "4s21WiTVteEW",
        "outputId": "1b3e5fd9-1683-4a57-8d0f-c93bf1345231"
      },
      "source": [
        "for permissao in permissoes:\n",
        "  if permissao == True:\n",
        "    print('Você pode dirigir')\n",
        "  else:\n",
        "    print('Você não pode dirigir')"
      ],
      "execution_count": 65,
      "outputs": [
        {
          "output_type": "stream",
          "text": [
            "Você pode dirigir\n",
            "Você não pode dirigir\n",
            "Você pode dirigir\n"
          ],
          "name": "stdout"
        }
      ]
    },
    {
      "cell_type": "code",
      "metadata": {
        "colab": {
          "base_uri": "https://localhost:8080/"
        },
        "id": "kAEXuDpDt30u",
        "outputId": "6b6d87c5-c5e3-4f03-c25d-8f26124efff5"
      },
      "source": [
        "a = 2\n",
        "if a < 2:\n",
        "  a = a + 1\n",
        "else:\n",
        "  a = a + 2\n",
        "\n",
        "if a < 4:\n",
        "  a = a + 4\n",
        "else:\n",
        "  a = a + 6\n",
        "\n",
        "a"
      ],
      "execution_count": 66,
      "outputs": [
        {
          "output_type": "execute_result",
          "data": {
            "text/plain": [
              "10"
            ]
          },
          "metadata": {
            "tags": []
          },
          "execution_count": 66
        }
      ]
    },
    {
      "cell_type": "code",
      "metadata": {
        "id": "1YW019BwvNS1"
      },
      "source": [
        ""
      ],
      "execution_count": null,
      "outputs": []
    },
    {
      "cell_type": "markdown",
      "metadata": {
        "id": "Q8ZnQm42vdHp"
      },
      "source": [
        "# Tipos em uma lista"
      ]
    },
    {
      "cell_type": "code",
      "metadata": {
        "colab": {
          "base_uri": "https://localhost:8080/"
        },
        "id": "E30q9_r7vkEr",
        "outputId": "4b9ceaee-bb8b-4cb2-9b48-7e2f714cb405"
      },
      "source": [
        "lista = ['Erik', 36, True, '18']\n",
        "\n",
        "for elemento in lista:\n",
        "  print(f'O elemento {elemento} é do tipo: ', type(elemento))"
      ],
      "execution_count": 68,
      "outputs": [
        {
          "output_type": "stream",
          "text": [
            "O elemento Erik é do tipo:  <class 'str'>\n",
            "O elemento 36 é do tipo:  <class 'int'>\n",
            "O elemento True é do tipo:  <class 'bool'>\n",
            "O elemento 18 é do tipo:  <class 'str'>\n"
          ],
          "name": "stdout"
        }
      ]
    },
    {
      "cell_type": "code",
      "metadata": {
        "id": "lG830cmPv7W9"
      },
      "source": [
        ""
      ],
      "execution_count": null,
      "outputs": []
    },
    {
      "cell_type": "markdown",
      "metadata": {
        "id": "bVFo_k6jxDEJ"
      },
      "source": [
        "# Import"
      ]
    },
    {
      "cell_type": "code",
      "metadata": {
        "id": "tc8cfl61xHun"
      },
      "source": [
        "from random import randrange, seed"
      ],
      "execution_count": 98,
      "outputs": []
    },
    {
      "cell_type": "code",
      "metadata": {
        "id": "9Oh3vQMt1BVg"
      },
      "source": [
        "seed(10)"
      ],
      "execution_count": 104,
      "outputs": []
    },
    {
      "cell_type": "code",
      "metadata": {
        "colab": {
          "base_uri": "https://localhost:8080/"
        },
        "id": "0ejKRMwxxQr4",
        "outputId": "57b01abf-c2a8-4de0-97da-4f07e65c4994"
      },
      "source": [
        "randrange(0, 11)"
      ],
      "execution_count": 105,
      "outputs": [
        {
          "output_type": "execute_result",
          "data": {
            "text/plain": [
              "9"
            ]
          },
          "metadata": {
            "tags": []
          },
          "execution_count": 105
        }
      ]
    },
    {
      "cell_type": "code",
      "metadata": {
        "colab": {
          "base_uri": "https://localhost:8080/"
        },
        "id": "mju90rT9xgi1",
        "outputId": "4412a426-b2cc-4c48-d46b-0ac2eb26733f"
      },
      "source": [
        "notas_matematica = []\n",
        "\n",
        "for notas in range(8):\n",
        "  notas_matematica.append(randrange(0,11))\n",
        "\n",
        "notas_matematica\n",
        "\n",
        "media1 = (notas_matematica[0] + notas_matematica[1])/2\n",
        "media2 = (notas_matematica[2] + notas_matematica[3])/2\n",
        "media3 = (notas_matematica[4] + notas_matematica[5])/2\n",
        "media4 = (notas_matematica[6] + notas_matematica[7])/2\n",
        "media_final = (media1 + media2 + media3 + media4)/4\n",
        "\n",
        "\n",
        "\n",
        "notas_matematica"
      ],
      "execution_count": 106,
      "outputs": [
        {
          "output_type": "execute_result",
          "data": {
            "text/plain": [
              "[0, 6, 7, 9, 0, 3, 7, 7]"
            ]
          },
          "metadata": {
            "tags": []
          },
          "execution_count": 106
        }
      ]
    },
    {
      "cell_type": "code",
      "metadata": {
        "colab": {
          "base_uri": "https://localhost:8080/"
        },
        "id": "DI7UblTN0k9U",
        "outputId": "ad7e7cb3-202c-43a3-ce7b-4a3c8a4c1e82"
      },
      "source": [
        "if media_final >= 6:\n",
        "  print(f'Parabéns, sua média final foi {media_final} e você foi aprovado')\n",
        "elif media_final >= 2 and media_final < 6:\n",
        "  print(f\"Cuidado, sua média final foi {media_final} e você está de recuperação\")\n",
        "else:\n",
        "  print(f'Sua média final foi {media_final} e você está reporvado')"
      ],
      "execution_count": 107,
      "outputs": [
        {
          "output_type": "stream",
          "text": [
            "Cuidado, sua média final foi 4.875 e você está de recuperação\n"
          ],
          "name": "stdout"
        }
      ]
    },
    {
      "cell_type": "code",
      "metadata": {
        "id": "8aEfb-tA0rZs"
      },
      "source": [
        ""
      ],
      "execution_count": null,
      "outputs": []
    },
    {
      "cell_type": "markdown",
      "metadata": {
        "id": "R_96TvLu2FNN"
      },
      "source": [
        "# Matpoltlib"
      ]
    },
    {
      "cell_type": "code",
      "metadata": {
        "id": "46gYN-3e2MRf"
      },
      "source": [
        "import matplotlib.pyplot as plt\n"
      ],
      "execution_count": 108,
      "outputs": []
    },
    {
      "cell_type": "code",
      "metadata": {
        "colab": {
          "base_uri": "https://localhost:8080/",
          "height": 295
        },
        "id": "0GWsqhNz2XS5",
        "outputId": "726f26d3-ad83-4df2-9915-b826010f1f70"
      },
      "source": [
        "x = list(range(1, 9))\n",
        "y = notas_matematica\n",
        "plt.plot(x, y, marker='o')\n",
        "plt.title('Notas de Matemática')\n",
        "plt.xlabel('Provas')\n",
        "plt.ylabel('Notas')\n",
        "plt.show()"
      ],
      "execution_count": 118,
      "outputs": [
        {
          "output_type": "display_data",
          "data": {
            "image/png": "[encoded data removed]",
            "text/plain": [
              "<Figure size 432x288 with 1 Axes>"
            ]
          },
          "metadata": {
            "tags": [],
            "needs_background": "light"
          }
        }
      ]
    },
    {
      "cell_type": "code",
      "metadata": {
        "id": "i4tqrmP52_qc"
      },
      "source": [
        ""
      ],
      "execution_count": null,
      "outputs": []
    }
  ]
}